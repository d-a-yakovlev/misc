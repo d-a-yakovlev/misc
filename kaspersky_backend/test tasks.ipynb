{
 "cells": [
  {
   "cell_type": "markdown",
   "metadata": {},
   "source": [
    "### Тестовое задание в Лабораторию Касперского Backend"
   ]
  },
  {
   "cell_type": "markdown",
   "metadata": {},
   "source": [
    "# Python"
   ]
  },
  {
   "cell_type": "markdown",
   "metadata": {},
   "source": [
    "Задания\n",
    "\n",
    " \n",
    "\n",
    "Задания нужно сделать на Python"
   ]
  },
  {
   "cell_type": "markdown",
   "metadata": {},
   "source": [
    "#### 1.       Чем плохи деструкторы в питоне? "
   ]
  },
  {
   "cell_type": "code",
   "execution_count": 1,
   "metadata": {},
   "outputs": [],
   "source": [
    "class ClassWithId:\n",
    "    def __init__(self, id):\n",
    "        self.id = id\n",
    "        print(f\"Ctr Empty class № {self.id}\")\n",
    "        \n",
    "    def __del__(self):\n",
    "        print(f\"Dtr Empty class № {self.id}\")\n",
    "    "
   ]
  },
  {
   "cell_type": "code",
   "execution_count": 10,
   "metadata": {},
   "outputs": [
    {
     "name": "stdout",
     "output_type": "stream",
     "text": [
      "Ctr Empty class № 1\n"
     ]
    }
   ],
   "source": [
    "instance_1 = ClassWithId(1)\n",
    "ref_on_instance_1 = instance_1 # Не копируем а берём ссылку"
   ]
  },
  {
   "cell_type": "code",
   "execution_count": 11,
   "metadata": {},
   "outputs": [],
   "source": [
    "del instance_1 # по логике должен вызваться деструктор"
   ]
  },
  {
   "cell_type": "code",
   "execution_count": 12,
   "metadata": {},
   "outputs": [
    {
     "name": "stdout",
     "output_type": "stream",
     "text": [
      "Dtr Empty class № 1\n"
     ]
    }
   ],
   "source": [
    "del ref_on_instance_1 # но на самом деле он вызоветься только когда все ссылки будут удалены"
   ]
  },
  {
   "cell_type": "markdown",
   "metadata": {},
   "source": [
    "#### 2.       Почему может быть плох import в начале файла? "
   ]
  },
  {
   "cell_type": "markdown",
   "metadata": {},
   "source": [
    "1)<br>\n",
    "К примеру мы напищем<br>\n",
    "import packetWithSpecificPath.someModule<br>\n",
    "\n",
    "Модуль лежащий в каком-то специфичном месте, для него нужно предварительно дополнить sys.path<br>\n",
    "\n",
    "2)<br>\n",
    "К примеру в нашей рабочей папке (в текущей момент это та в которой лежит этот ноутбук)<br>\n",
    "(Также это распространяется на какие-то другие модули, не обязательно в текущей рабочей директории)<br>\n",
    "Может лежать модуль, которому необходима переменная определённая у нас здесь<br>\n",
    "\n",
    "Положим сейчас в ./ есть модуль mmmodule.py<br>\n",
    "В котором будет функция<br>\n",
    "<br>\n",
    "<code>def fffunction():\n",
    "    from generalModule import glob\n",
    "    print(f\"i'm need glob == 42, now glob = {glob}\")\n",
    "    if glob == 42:\n",
    "        print(\"Cool i got glob = 42\")</code>\n",
    "<br>    \n",
    "Для этого понадобиться общий класс <code>generalModule.py</code><br>\n",
    "Чтобы в нём определить переменную <code>var_from_notebook</code><br>\n",
    "\n",
    "generalModule.py<br>\n",
    "|-glob = 0<br>\n",
    "|<br>\n",
    "|->test_tasks.ipynb<br>\n",
    "|&nbsp;&nbsp;&nbsp;&nbsp;|-generalModule.glob = 42<br>\n",
    "|<br>\n",
    "|->mmmodule.py<br>\n",
    "|&nbsp;&nbsp;&nbsp;&nbsp;|-fffunction (корректно работает с 42)<br>"
   ]
  },
  {
   "cell_type": "code",
   "execution_count": 1,
   "metadata": {},
   "outputs": [],
   "source": [
    "import generalModule\n",
    "generalModule.glob = 42"
   ]
  },
  {
   "cell_type": "code",
   "execution_count": 2,
   "metadata": {},
   "outputs": [
    {
     "name": "stdout",
     "output_type": "stream",
     "text": [
      "i'm need glob == 42, now glob = 42\n",
      "Cool i got glob = 42\n"
     ]
    }
   ],
   "source": [
    "from mmmodule import fffunction\n",
    "fffunction()"
   ]
  },
  {
   "cell_type": "markdown",
   "metadata": {},
   "source": [
    "#### 3.       Как в питоне «вывалиться» из любой вложенности или рекурсии по аналогу «goto:»? "
   ]
  },
  {
   "cell_type": "code",
   "execution_count": 16,
   "metadata": {},
   "outputs": [],
   "source": [
    "class Goto(Exception):\n",
    "    pass"
   ]
  },
  {
   "cell_type": "code",
   "execution_count": 48,
   "metadata": {},
   "outputs": [],
   "source": [
    "counter = 0"
   ]
  },
  {
   "cell_type": "code",
   "execution_count": 49,
   "metadata": {},
   "outputs": [],
   "source": [
    "def recursive_function():\n",
    "    global counter\n",
    "    if counter == 10:\n",
    "        raise Goto\n",
    "    counter += 1\n",
    "    recursive_function()"
   ]
  },
  {
   "cell_type": "code",
   "execution_count": 50,
   "metadata": {},
   "outputs": [
    {
     "name": "stdout",
     "output_type": "stream",
     "text": [
      "Handmade goto : counter = 10\n"
     ]
    }
   ],
   "source": [
    "try:\n",
    "    for i in range(100):\n",
    "        counter += 1\n",
    "        for j in range(1000):\n",
    "            counter += 1\n",
    "            recursive_function()\n",
    "    \n",
    "except(Goto):\n",
    "    print(f\"Handmade goto : counter = {counter}\")"
   ]
  },
  {
   "cell_type": "markdown",
   "metadata": {},
   "source": [
    "#### 4.       Сервер отдает сообщение один раз (1кб, бинарь). Его необходимо сохранить в базе, нельзя потерять(!). Как бы вы решали такую задачу? "
   ]
  },
  {
   "cell_type": "code",
   "execution_count": 277,
   "metadata": {},
   "outputs": [],
   "source": [
    "#!pip install requests"
   ]
  },
  {
   "cell_type": "code",
   "execution_count": 278,
   "metadata": {},
   "outputs": [],
   "source": [
    "import requests"
   ]
  },
  {
   "cell_type": "code",
   "execution_count": 279,
   "metadata": {},
   "outputs": [],
   "source": [
    "# Получим не бинарь, а обратимся например к гуглу\n",
    "res = requests.get(\"https://www.google.com\")\n",
    "data = res.text"
   ]
  },
  {
   "cell_type": "code",
   "execution_count": 280,
   "metadata": {},
   "outputs": [
    {
     "data": {
      "text/plain": [
       "16762"
      ]
     },
     "execution_count": 280,
     "metadata": {},
     "output_type": "execute_result"
    }
   ],
   "source": [
    "sys.getsizeof(data) # в 16 раз больше 1кб из условия, но я думаю это не страшно"
   ]
  },
  {
   "cell_type": "code",
   "execution_count": 281,
   "metadata": {},
   "outputs": [],
   "source": [
    "bin_data = ''.join(map(bin, bytearray(data, 'utf-8')))"
   ]
  },
  {
   "cell_type": "code",
   "execution_count": 282,
   "metadata": {},
   "outputs": [],
   "source": [
    "while sys.getsizeof(bin_data) > 2048:\n",
    "    bin_data = bin_data[:len(bin_data)//2]"
   ]
  },
  {
   "cell_type": "code",
   "execution_count": 283,
   "metadata": {},
   "outputs": [
    {
     "data": {
      "text/plain": [
       "1162"
      ]
     },
     "execution_count": 283,
     "metadata": {},
     "output_type": "execute_result"
    }
   ],
   "source": [
    "sys.getsizeof(bin_data) # теперь действительно один килобайт"
   ]
  },
  {
   "cell_type": "code",
   "execution_count": 284,
   "metadata": {},
   "outputs": [],
   "source": [
    "data = bin_data"
   ]
  },
  {
   "cell_type": "code",
   "execution_count": 285,
   "metadata": {},
   "outputs": [
    {
     "data": {
      "text/plain": [
       "str"
      ]
     },
     "execution_count": 285,
     "metadata": {},
     "output_type": "execute_result"
    }
   ],
   "source": [
    "type(data)"
   ]
  },
  {
   "cell_type": "code",
   "execution_count": 286,
   "metadata": {},
   "outputs": [],
   "source": [
    "# Давайте сохраним данные в файл, чтобы гарантированно не потерять в дальнейшем\n",
    "with open('quasy_bin_file', 'w') as fh:\n",
    "    fh.write(data)\n",
    "    fh.close()"
   ]
  },
  {
   "cell_type": "code",
   "execution_count": 287,
   "metadata": {},
   "outputs": [
    {
     "name": "stdout",
     "output_type": "stream",
     "text": [
      "table bin_file already exists\n"
     ]
    }
   ],
   "source": [
    "import sqlite3\n",
    "\n",
    "# Создадим sqlite3 базу с таблицей для сохранённого файла\n",
    "\n",
    "sqlite_connection = sqlite3.connect('storage_of_bin_file.db')\n",
    "dbh = sqlite_connection.cursor()\n",
    "\n",
    "create_table_query = '''CREATE TABLE bin_file \n",
    "                        (\n",
    "                        id INTEGER PRIMARY KEY,\n",
    "                        name TEXT NOT NULL,\n",
    "                        data BLOB\n",
    "                        );'''\n",
    "\n",
    "try:\n",
    "    dbh.execute(create_table_query)\n",
    "except:\n",
    "    print(\"table bin_file already exists\")"
   ]
  },
  {
   "cell_type": "code",
   "execution_count": 288,
   "metadata": {},
   "outputs": [],
   "source": [
    "sqlite_connection.commit()\n",
    "dbh.close()"
   ]
  },
  {
   "cell_type": "code",
   "execution_count": 289,
   "metadata": {},
   "outputs": [],
   "source": [
    "id = 0\n",
    "file_name = 'nothing'"
   ]
  },
  {
   "cell_type": "code",
   "execution_count": 290,
   "metadata": {},
   "outputs": [],
   "source": [
    "def store_bin_file_in_db(name, data):\n",
    "    global id\n",
    "    global sqlite_connection\n",
    "    \n",
    "    dbh = sqlite_connection.cursor()\n",
    "    \n",
    "    update_table_query = '''INSERT INTO bin_file\n",
    "                          (id, name, data)  VALUES  (?, ?, ?)'''\n",
    "    \n",
    "    dbh.execute(update_table_query, (id, name, data))\n",
    "    id += 1\n",
    "    \n",
    "    sqlite_connection.commit()\n",
    "    \n",
    "    print(f\"{dbh.rowcount} rows updated\")\n",
    "    \n",
    "    dbh.close()"
   ]
  },
  {
   "cell_type": "markdown",
   "metadata": {},
   "source": [
    "Эмулируем ситуацию потерянных данных"
   ]
  },
  {
   "cell_type": "code",
   "execution_count": 310,
   "metadata": {},
   "outputs": [],
   "source": [
    "FLAG_STORED_IN_DB = False"
   ]
  },
  {
   "cell_type": "code",
   "execution_count": 311,
   "metadata": {},
   "outputs": [],
   "source": [
    "data = None # полученные данные потерялись"
   ]
  },
  {
   "cell_type": "code",
   "execution_count": 312,
   "metadata": {},
   "outputs": [
    {
     "name": "stdout",
     "output_type": "stream",
     "text": [
      "writing in db ...\n",
      "1 rows updated\n",
      "writing in db success\n"
     ]
    }
   ],
   "source": [
    "while (not FLAG_STORED_IN_DB):\n",
    "    try:\n",
    "        if data:\n",
    "            # записываем данные в базу данных\n",
    "            print(\"writing in db ...\")\n",
    "            \n",
    "            store_bin_file_in_db(file_name, data)\n",
    "            \n",
    "            # записали успешно\n",
    "            print(\"writing in db success\")\n",
    "            FLAG_STORED_IN_DB = True\n",
    "        else:\n",
    "            raise ValueError\n",
    "    \n",
    "    except(ValueError):\n",
    "        fh = open('quasy_bin_file', 'rb')\n",
    "        file_name = fh.name\n",
    "        data = fh.read()\n",
    "        fh.close()\n",
    "    "
   ]
  },
  {
   "cell_type": "code",
   "execution_count": 294,
   "metadata": {},
   "outputs": [],
   "source": [
    "def select_all_from_table():\n",
    "    dbh = sqlite_connection.cursor()\n",
    "\n",
    "    select_table_query = '''SELECT * FROM bin_file'''\n",
    "    dbh.execute(select_table_query)\n",
    "\n",
    "    rows_in_table = dbh.fetchall()\n",
    "    dbh.close()\n",
    "    \n",
    "    return rows_in_table"
   ]
  },
  {
   "cell_type": "code",
   "execution_count": 295,
   "metadata": {},
   "outputs": [],
   "source": [
    "def delete_all_from_table():\n",
    "    global sqlite_connection\n",
    "    dbh = sqlite_connection.cursor()\n",
    "    \n",
    "    delete_table_query = '''DELETE FROM  bin_file'''\n",
    "    dbh.execute(delete_table_query)\n",
    "    \n",
    "    sqlite_connection.commit()\n",
    "    \n",
    "    print(f\"{dbh.rowcount} rows updated\")\n",
    "    dbh.close()"
   ]
  },
  {
   "cell_type": "code",
   "execution_count": 296,
   "metadata": {},
   "outputs": [],
   "source": [
    "#delete_all_from_table()"
   ]
  },
  {
   "cell_type": "code",
   "execution_count": 313,
   "metadata": {},
   "outputs": [],
   "source": [
    "rows = select_all_from_table()"
   ]
  },
  {
   "cell_type": "code",
   "execution_count": 308,
   "metadata": {},
   "outputs": [],
   "source": [
    "import pandas as pd"
   ]
  },
  {
   "cell_type": "code",
   "execution_count": 314,
   "metadata": {},
   "outputs": [
    {
     "data": {
      "text/html": [
       "<div>\n",
       "<style scoped>\n",
       "    .dataframe tbody tr th:only-of-type {\n",
       "        vertical-align: middle;\n",
       "    }\n",
       "\n",
       "    .dataframe tbody tr th {\n",
       "        vertical-align: top;\n",
       "    }\n",
       "\n",
       "    .dataframe thead th {\n",
       "        text-align: right;\n",
       "    }\n",
       "</style>\n",
       "<table border=\"1\" class=\"dataframe\">\n",
       "  <thead>\n",
       "    <tr style=\"text-align: right;\">\n",
       "      <th></th>\n",
       "      <th>id</th>\n",
       "      <th>name</th>\n",
       "      <th>data</th>\n",
       "    </tr>\n",
       "  </thead>\n",
       "  <tbody>\n",
       "    <tr>\n",
       "      <th>0</th>\n",
       "      <td>0</td>\n",
       "      <td>quasy_bin_file</td>\n",
       "      <td>b'0b1111000b1000010b11001000b11011110b11000110...</td>\n",
       "    </tr>\n",
       "    <tr>\n",
       "      <th>1</th>\n",
       "      <td>1</td>\n",
       "      <td>quasy_bin_file</td>\n",
       "      <td>b'0b1111000b1000010b11001000b11011110b11000110...</td>\n",
       "    </tr>\n",
       "    <tr>\n",
       "      <th>2</th>\n",
       "      <td>2</td>\n",
       "      <td>quasy_bin_file</td>\n",
       "      <td>b'0b1111000b1000010b11001000b11011110b11000110...</td>\n",
       "    </tr>\n",
       "  </tbody>\n",
       "</table>\n",
       "</div>"
      ],
      "text/plain": [
       "   id            name                                               data\n",
       "0   0  quasy_bin_file  b'0b1111000b1000010b11001000b11011110b11000110...\n",
       "1   1  quasy_bin_file  b'0b1111000b1000010b11001000b11011110b11000110...\n",
       "2   2  quasy_bin_file  b'0b1111000b1000010b11001000b11011110b11000110..."
      ]
     },
     "execution_count": 314,
     "metadata": {},
     "output_type": "execute_result"
    }
   ],
   "source": [
    "df = pd.DataFrame(rows, columns=['id', 'name', 'data'])\n",
    "df"
   ]
  },
  {
   "cell_type": "markdown",
   "metadata": {},
   "source": [
    "#### 5.       Есть хранилище данных, которое обновляется раз в сутки, SQL или ElasticSearch (можно не знать про ES). Пользователь работает с хранилищем. Запрос выполнялся 30+ секунд. Результат корректный. Но этот же запрос может быть повторен другим пользователем. Как ускорить получение ответов от хранилища?"
   ]
  },
  {
   "cell_type": "code",
   "execution_count": 315,
   "metadata": {},
   "outputs": [],
   "source": [
    "user_query = '''SELECT id, name FROM bin_file WHERE id > 1''' # условно долгий запрос"
   ]
  },
  {
   "cell_type": "code",
   "execution_count": 318,
   "metadata": {},
   "outputs": [],
   "source": [
    "import time\n",
    "from functools import lru_cache"
   ]
  },
  {
   "cell_type": "code",
   "execution_count": 326,
   "metadata": {},
   "outputs": [],
   "source": [
    "@lru_cache\n",
    "def execute_some_query(query):\n",
    "    global sqlite_connection\n",
    "    \n",
    "    dbh = sqlite_connection.cursor()\n",
    "    \n",
    "    time.sleep(1)\n",
    "    dbh.execute(user_query)\n",
    "    \n",
    "    rows = dbh.fetchall()\n",
    "    dbh.close()\n",
    "    \n",
    "    return rows"
   ]
  },
  {
   "cell_type": "code",
   "execution_count": 327,
   "metadata": {},
   "outputs": [
    {
     "name": "stdout",
     "output_type": "stream",
     "text": [
      "Wall time: 1 s\n"
     ]
    },
    {
     "data": {
      "text/plain": [
       "[(2, 'quasy_bin_file')]"
      ]
     },
     "execution_count": 327,
     "metadata": {},
     "output_type": "execute_result"
    }
   ],
   "source": [
    "%%time\n",
    "execute_some_query(user_query) # первый запрос"
   ]
  },
  {
   "cell_type": "code",
   "execution_count": 328,
   "metadata": {},
   "outputs": [
    {
     "name": "stdout",
     "output_type": "stream",
     "text": [
      "Wall time: 0 ns\n"
     ]
    },
    {
     "data": {
      "text/plain": [
       "[(2, 'quasy_bin_file')]"
      ]
     },
     "execution_count": 328,
     "metadata": {},
     "output_type": "execute_result"
    }
   ],
   "source": [
    "%%time\n",
    "execute_some_query(user_query) # повторный запрос"
   ]
  },
  {
   "cell_type": "markdown",
   "metadata": {},
   "source": [
    "Кэшируем запрос"
   ]
  },
  {
   "cell_type": "markdown",
   "metadata": {},
   "source": [
    "# SQL"
   ]
  },
  {
   "cell_type": "markdown",
   "metadata": {},
   "source": [
    "Вопрос по SQL\n",
    "<br>\n",
    "<br> \n",
    "<br>\n",
    "В чем может быть отличие использование LIKE от MATCH … AGAINST?\n",
    "<br>\n",
    "Например в запросах\n",
    "<br>\n",
    "<br> \n",
    "<br>\n",
    "<code>SELECT * FROM cache WHERE content like ('%future%' and '%trends%')</code>\n",
    "<br>\n",
    "<br> \n",
    "<br>\n",
    "И\n",
    "<br>\n",
    "<br> \n",
    "<br>\n",
    "<code>SELECT *  FROM cache WHERE  MATCH (content) AGAINST ( '+future +trends' IN BOOLEAN MODE)</code>"
   ]
  },
  {
   "cell_type": "markdown",
   "metadata": {},
   "source": [
    "### Ответ:"
   ]
  },
  {
   "cell_type": "markdown",
   "metadata": {},
   "source": [
    "LIKE будет дороже ведь происходит по шаблону, в отличии от MATCH AGAINST, который использует FULLTEXT индексы для сокращения времени затрачиваемого на поиск(но при этом индексы не обязательны)."
   ]
  },
  {
   "cell_type": "markdown",
   "metadata": {},
   "source": [
    "<code>SELECT * FROM cache WHERE MATCH (content) AGAINST ( '+future +trends' IN BOOLEAN MODE)</code> :\n",
    "<br>    \n",
    "Все записи в которых содержаться слова (\"future\", \"trends\")<br>\n",
    "futuretrends будет проигнорирован"
   ]
  },
  {
   "cell_type": "code",
   "execution_count": 364,
   "metadata": {},
   "outputs": [],
   "source": [
    "test_query = '''SELECT * FROM cache WHERE content like '%future%' and content like '%trends%' '''"
   ]
  },
  {
   "cell_type": "code",
   "execution_count": 370,
   "metadata": {},
   "outputs": [
    {
     "name": "stdout",
     "output_type": "stream",
     "text": [
      "table cache already exists\n"
     ]
    }
   ],
   "source": [
    "test_create_table_query = '''CREATE TABLE cache \n",
    "                            (\n",
    "                            id INTEGER PRIMARY KEY,\n",
    "                            content TEXT NOT NULL\n",
    "                            );'''\n",
    "\n",
    "dbh = sqlite_connection.cursor()\n",
    "    \n",
    "try:\n",
    "    dbh.execute(test_create_table_query)\n",
    "    sqlite_connection.commit()\n",
    "except:\n",
    "    print(\"table cache already exists\")\n",
    "\n",
    "test_update_query = '''\n",
    "                    INSERT INTO cache\n",
    "                    (id, content)  VALUES  (?, ?)\n",
    "                    '''\n",
    "\n",
    "dbh.execute('''DELETE FROM cache''')\n",
    "sqlite_connection.commit()\n",
    "\n",
    "dbh.execute(test_update_query, (0, \"futuretrends\"))\n",
    "dbh.execute(test_update_query, (1, \"future trends\"))\n",
    "dbh.execute(test_update_query, (2, \"aaafuture trendsbbbb\"))\n",
    "dbh.execute(test_update_query, (3, \"aaafuturewwwtrendsbbbb\"))\n",
    "dbh.execute(test_update_query, (4, \"  future  trends \"))\n",
    "dbh.execute(test_update_query, (5, \"nomatching\"))\n",
    "\n",
    "sqlite_connection.commit()\n",
    "\n"
   ]
  },
  {
   "cell_type": "code",
   "execution_count": 371,
   "metadata": {},
   "outputs": [],
   "source": [
    "dbh.execute('''SELECT * FROM cache''')\n",
    "test_df = pd.DataFrame(dbh.fetchall(), columns = ['id', 'content'])"
   ]
  },
  {
   "cell_type": "code",
   "execution_count": 372,
   "metadata": {},
   "outputs": [
    {
     "data": {
      "text/html": [
       "<div>\n",
       "<style scoped>\n",
       "    .dataframe tbody tr th:only-of-type {\n",
       "        vertical-align: middle;\n",
       "    }\n",
       "\n",
       "    .dataframe tbody tr th {\n",
       "        vertical-align: top;\n",
       "    }\n",
       "\n",
       "    .dataframe thead th {\n",
       "        text-align: right;\n",
       "    }\n",
       "</style>\n",
       "<table border=\"1\" class=\"dataframe\">\n",
       "  <thead>\n",
       "    <tr style=\"text-align: right;\">\n",
       "      <th></th>\n",
       "      <th>id</th>\n",
       "      <th>content</th>\n",
       "    </tr>\n",
       "  </thead>\n",
       "  <tbody>\n",
       "    <tr>\n",
       "      <th>0</th>\n",
       "      <td>0</td>\n",
       "      <td>futuretrends</td>\n",
       "    </tr>\n",
       "    <tr>\n",
       "      <th>1</th>\n",
       "      <td>1</td>\n",
       "      <td>future trends</td>\n",
       "    </tr>\n",
       "    <tr>\n",
       "      <th>2</th>\n",
       "      <td>2</td>\n",
       "      <td>aaafuture trendsbbbb</td>\n",
       "    </tr>\n",
       "    <tr>\n",
       "      <th>3</th>\n",
       "      <td>3</td>\n",
       "      <td>aaafuturewwwtrendsbbbb</td>\n",
       "    </tr>\n",
       "    <tr>\n",
       "      <th>4</th>\n",
       "      <td>4</td>\n",
       "      <td>future  trends</td>\n",
       "    </tr>\n",
       "    <tr>\n",
       "      <th>5</th>\n",
       "      <td>5</td>\n",
       "      <td>nomatching</td>\n",
       "    </tr>\n",
       "  </tbody>\n",
       "</table>\n",
       "</div>"
      ],
      "text/plain": [
       "   id                 content\n",
       "0   0            futuretrends\n",
       "1   1           future trends\n",
       "2   2    aaafuture trendsbbbb\n",
       "3   3  aaafuturewwwtrendsbbbb\n",
       "4   4         future  trends \n",
       "5   5              nomatching"
      ]
     },
     "execution_count": 372,
     "metadata": {},
     "output_type": "execute_result"
    }
   ],
   "source": [
    "test_df"
   ]
  },
  {
   "cell_type": "code",
   "execution_count": 373,
   "metadata": {},
   "outputs": [],
   "source": [
    "dbh.execute(test_query)\n",
    "like_df = pd.DataFrame(dbh.fetchall(), columns = ['id', 'content'])"
   ]
  },
  {
   "cell_type": "code",
   "execution_count": 374,
   "metadata": {},
   "outputs": [
    {
     "data": {
      "text/html": [
       "<div>\n",
       "<style scoped>\n",
       "    .dataframe tbody tr th:only-of-type {\n",
       "        vertical-align: middle;\n",
       "    }\n",
       "\n",
       "    .dataframe tbody tr th {\n",
       "        vertical-align: top;\n",
       "    }\n",
       "\n",
       "    .dataframe thead th {\n",
       "        text-align: right;\n",
       "    }\n",
       "</style>\n",
       "<table border=\"1\" class=\"dataframe\">\n",
       "  <thead>\n",
       "    <tr style=\"text-align: right;\">\n",
       "      <th></th>\n",
       "      <th>id</th>\n",
       "      <th>content</th>\n",
       "    </tr>\n",
       "  </thead>\n",
       "  <tbody>\n",
       "    <tr>\n",
       "      <th>0</th>\n",
       "      <td>0</td>\n",
       "      <td>futuretrends</td>\n",
       "    </tr>\n",
       "    <tr>\n",
       "      <th>1</th>\n",
       "      <td>1</td>\n",
       "      <td>future trends</td>\n",
       "    </tr>\n",
       "    <tr>\n",
       "      <th>2</th>\n",
       "      <td>2</td>\n",
       "      <td>aaafuture trendsbbbb</td>\n",
       "    </tr>\n",
       "    <tr>\n",
       "      <th>3</th>\n",
       "      <td>3</td>\n",
       "      <td>aaafuturewwwtrendsbbbb</td>\n",
       "    </tr>\n",
       "    <tr>\n",
       "      <th>4</th>\n",
       "      <td>4</td>\n",
       "      <td>future  trends</td>\n",
       "    </tr>\n",
       "  </tbody>\n",
       "</table>\n",
       "</div>"
      ],
      "text/plain": [
       "   id                 content\n",
       "0   0            futuretrends\n",
       "1   1           future trends\n",
       "2   2    aaafuture trendsbbbb\n",
       "3   3  aaafuturewwwtrendsbbbb\n",
       "4   4         future  trends "
      ]
     },
     "execution_count": 374,
     "metadata": {},
     "output_type": "execute_result"
    }
   ],
   "source": [
    "like_df"
   ]
  },
  {
   "cell_type": "code",
   "execution_count": 375,
   "metadata": {},
   "outputs": [],
   "source": [
    "dbh.close()"
   ]
  },
  {
   "cell_type": "markdown",
   "metadata": {},
   "source": [
    "<code>SELECT * FROM cache WHERE content like '%future%' and content like '%trends%'</code><br>\n",
    "Поменял запрос на такой потому что со скобками ничего не распознавало, возможно определённые СУБД понимают конструкцию \" LIKE () \", но SQLite к сожалению нет."
   ]
  },
  {
   "cell_type": "markdown",
   "metadata": {},
   "source": [
    "Но в общем видно, что мы просто находим вхождения по шаблону, в то время как с полнотекстным поиском MATCH AGAINST мы бы получили записи с id=1 и id=4"
   ]
  },
  {
   "cell_type": "code",
   "execution_count": null,
   "metadata": {},
   "outputs": [],
   "source": []
  }
 ],
 "metadata": {
  "kernelspec": {
   "display_name": "Python 3",
   "language": "python",
   "name": "python3"
  },
  "language_info": {
   "codemirror_mode": {
    "name": "ipython",
    "version": 3
   },
   "file_extension": ".py",
   "mimetype": "text/x-python",
   "name": "python",
   "nbconvert_exporter": "python",
   "pygments_lexer": "ipython3",
   "version": "3.8.3"
  }
 },
 "nbformat": 4,
 "nbformat_minor": 4
}
